{
 "cells": [
  {
   "cell_type": "raw",
   "id": "a8271029-1a8c-4123-b6a8-ba9d2b691584",
   "metadata": {},
   "source": [
    "1. How do you comment code in Python? What are the different types of comments?"
   ]
  },
  {
   "cell_type": "markdown",
   "id": "d23eca1f-324a-44b5-846b-669ead20c192",
   "metadata": {},
   "source": [
    "ans: A comment is part of coding file  which programar make readable and explain a certain block of code and section or provide additional information.And comment has two types of comments single line comment and multi line comment. \n",
    "*single line comment: Anything written after hash (#) in single line is known as single line comment. \n",
    "*multi line comment: Anything written in mutlipule qoutes (\"\"\") is known as multi line comment."
   ]
  },
  {
   "cell_type": "raw",
   "id": "343c0b35-8128-4ede-a116-6956f354294d",
   "metadata": {},
   "source": [
    "Q2. What are variables in Python? How do you declare and assign values to variables?"
   ]
  },
  {
   "cell_type": "markdown",
   "id": "94c4bd4a-d079-44df-98aa-1c1d85ea137c",
   "metadata": {},
   "source": [
    "ans: A variables are named location which contains data in computer's memory or container which contains a data is known as vriable. \n",
    "*We choose any alphabetic or numeric value as vaiable and use assignment operator to assign a value."
   ]
  },
  {
   "cell_type": "code",
   "execution_count": 3,
   "id": "32a6b416-f9fe-4623-beee-61c623eb1594",
   "metadata": {},
   "outputs": [],
   "source": [
    "# example\n",
    "name=(\"ishwar\")\n",
    "age=21"
   ]
  },
  {
   "cell_type": "raw",
   "id": "cd58ca10-b8bc-44af-8201-89c9ead4a25e",
   "metadata": {},
   "source": [
    "Q3. How do you convert one data type to another in Python?"
   ]
  },
  {
   "cell_type": "code",
   "execution_count": 4,
   "id": "117c18f5-9dfd-44aa-814e-74d2b6b8466c",
   "metadata": {},
   "outputs": [],
   "source": [
    "a=(\"1234\")"
   ]
  },
  {
   "cell_type": "code",
   "execution_count": 5,
   "id": "a9d2837c-6639-4914-b69d-2cae97b788bc",
   "metadata": {},
   "outputs": [
    {
     "data": {
      "text/plain": [
       "'1234'"
      ]
     },
     "execution_count": 5,
     "metadata": {},
     "output_type": "execute_result"
    }
   ],
   "source": [
    "a"
   ]
  },
  {
   "cell_type": "code",
   "execution_count": 6,
   "id": "aba7106e-5197-44ff-8c33-c5b6a4bccb68",
   "metadata": {},
   "outputs": [
    {
     "data": {
      "text/plain": [
       "1234"
      ]
     },
     "execution_count": 6,
     "metadata": {},
     "output_type": "execute_result"
    }
   ],
   "source": [
    "int(a)"
   ]
  },
  {
   "cell_type": "raw",
   "id": "1c59f71f-1818-44f6-8022-096dd9115e5a",
   "metadata": {},
   "source": [
    "Q4. How do you write and execute a Python script from the command line?"
   ]
  },
  {
   "cell_type": "code",
   "execution_count": null,
   "id": "a1409430-52e1-4b5a-b2b3-4a538bf77e76",
   "metadata": {},
   "outputs": [],
   "source": [
    "(base) jovyan@d2a16f6227db:~/work$ python first.py\n",
    "hello world"
   ]
  },
  {
   "cell_type": "raw",
   "id": "dbfc750b-a9ec-4b3f-bb32-6071f677eec0",
   "metadata": {},
   "source": [
    "Q5. Given a list my_list = [1, 2, 3, 4, 5], write the code to slice the list and obtain the sub-list [2, 3]"
   ]
  },
  {
   "cell_type": "code",
   "execution_count": 6,
   "id": "c09ed29d-ac8a-490e-b3e6-6e051ec41e25",
   "metadata": {},
   "outputs": [],
   "source": [
    "my_list=[1,2,3,4,5]"
   ]
  },
  {
   "cell_type": "code",
   "execution_count": 7,
   "id": "9eefe8a7-eb2a-4c69-9bb7-3eac95d80508",
   "metadata": {},
   "outputs": [
    {
     "data": {
      "text/plain": [
       "[1, 2, 3, 4, 5]"
      ]
     },
     "execution_count": 7,
     "metadata": {},
     "output_type": "execute_result"
    }
   ],
   "source": [
    "my_list"
   ]
  },
  {
   "cell_type": "code",
   "execution_count": 14,
   "id": "5814e907-2e6a-4e1c-9c68-f5377f754a84",
   "metadata": {},
   "outputs": [
    {
     "data": {
      "text/plain": [
       "[2, 3]"
      ]
     },
     "execution_count": 14,
     "metadata": {},
     "output_type": "execute_result"
    }
   ],
   "source": [
    "(my_list[1:3])"
   ]
  },
  {
   "cell_type": "raw",
   "id": "af81ecdf-0669-44fd-a53c-cff04a545deb",
   "metadata": {},
   "source": [
    "Q6. What is a complex number in mathematics, and how is it represented in Python?"
   ]
  },
  {
   "cell_type": "markdown",
   "id": "60ea4152-0cba-4618-b335-b4bece6b54e5",
   "metadata": {},
   "source": [
    "In complex number 2+3i 2and3 are real number and i is imaginary number iota.\n",
    "In python j is known as imaginary number "
   ]
  },
  {
   "cell_type": "raw",
   "id": "3a930ecb-c3d9-47f5-a711-b89921fece5c",
   "metadata": {},
   "source": [
    "Q7. What is the correct way to declare a variable named age and assign the value 25 to it?"
   ]
  },
  {
   "cell_type": "code",
   "execution_count": 1,
   "id": "0f1a93ae-acca-4462-8f43-da3ed0a6dd8b",
   "metadata": {},
   "outputs": [],
   "source": [
    "age=25 "
   ]
  },
  {
   "cell_type": "code",
   "execution_count": 2,
   "id": "57ecfc98-7933-48ac-aa0e-a998ccbb2e2b",
   "metadata": {},
   "outputs": [
    {
     "data": {
      "text/plain": [
       "25"
      ]
     },
     "execution_count": 2,
     "metadata": {},
     "output_type": "execute_result"
    }
   ],
   "source": [
    "age"
   ]
  },
  {
   "cell_type": "raw",
   "id": "7874f97d-797e-4c1c-96ff-b8c178b97dad",
   "metadata": {},
   "source": [
    "Q8. Declare a variable named price and assign the value 9.99 to it. What data type does this variable \n",
    "belong to?"
   ]
  },
  {
   "cell_type": "code",
   "execution_count": 3,
   "id": "3961156c-065f-495b-8901-3c9c605072b2",
   "metadata": {},
   "outputs": [],
   "source": [
    "price=9.99"
   ]
  },
  {
   "cell_type": "code",
   "execution_count": 5,
   "id": "187fd5ab-1e3d-47e7-b6cf-b481e475e8db",
   "metadata": {},
   "outputs": [
    {
     "data": {
      "text/plain": [
       "float"
      ]
     },
     "execution_count": 5,
     "metadata": {},
     "output_type": "execute_result"
    }
   ],
   "source": [
    "type(price)"
   ]
  },
  {
   "cell_type": "markdown",
   "id": "8abb8815-bbe7-44cd-8e36-72231f8a66de",
   "metadata": {},
   "source": [
    "the data type of price is floating point number "
   ]
  },
  {
   "cell_type": "raw",
   "id": "1a41b545-10ae-4485-a37e-696286121f68",
   "metadata": {},
   "source": [
    "Q9.Create a variable named name and assign your full name to it as a string. How would you print the \n",
    "value of this variable?"
   ]
  },
  {
   "cell_type": "code",
   "execution_count": 6,
   "id": "59be998f-2f51-411e-b7d3-28a8adace945",
   "metadata": {},
   "outputs": [],
   "source": [
    "name=(\"ishwar biradar\")"
   ]
  },
  {
   "cell_type": "code",
   "execution_count": 8,
   "id": "8c1079e0-b203-4edc-9868-fd2884c7d0f8",
   "metadata": {},
   "outputs": [
    {
     "name": "stdout",
     "output_type": "stream",
     "text": [
      "ishwar biradar\n"
     ]
    }
   ],
   "source": [
    "print(name)"
   ]
  },
  {
   "cell_type": "raw",
   "id": "950f0457-3d07-46c9-a98d-be85fd7c222b",
   "metadata": {},
   "source": [
    "Q10. Given the string \"Hello, World!\", extract the substring \"World\"."
   ]
  },
  {
   "cell_type": "code",
   "execution_count": 10,
   "id": "32dbcfb4-ec0c-4fb6-8e90-8b0750b61ac3",
   "metadata": {},
   "outputs": [],
   "source": [
    "a=\"hello world\""
   ]
  },
  {
   "cell_type": "code",
   "execution_count": 11,
   "id": "41375b40-69ca-482e-91ed-790298435036",
   "metadata": {},
   "outputs": [
    {
     "data": {
      "text/plain": [
       "'hello world'"
      ]
     },
     "execution_count": 11,
     "metadata": {},
     "output_type": "execute_result"
    }
   ],
   "source": [
    "a"
   ]
  },
  {
   "cell_type": "code",
   "execution_count": 13,
   "id": "b17219e1-c017-4f3c-973a-13208395654f",
   "metadata": {},
   "outputs": [
    {
     "data": {
      "text/plain": [
       "' world'"
      ]
     },
     "execution_count": 13,
     "metadata": {},
     "output_type": "execute_result"
    }
   ],
   "source": [
    "a[5:11]"
   ]
  },
  {
   "cell_type": "raw",
   "id": "03d3366b-c563-4529-91bb-0313465206b3",
   "metadata": {},
   "source": [
    "Q11.Create a variable named \"is_student\" and assign it a boolean value indicating whether you are \n",
    "currently a student or not."
   ]
  },
  {
   "cell_type": "code",
   "execution_count": 14,
   "id": "11d6bdb5-9411-472d-af5f-75d98a5b1650",
   "metadata": {},
   "outputs": [],
   "source": [
    "is_student=True"
   ]
  },
  {
   "cell_type": "code",
   "execution_count": 15,
   "id": "b408861a-728f-48b3-a483-32a9a380c9a2",
   "metadata": {},
   "outputs": [
    {
     "name": "stdout",
     "output_type": "stream",
     "text": [
      "True\n"
     ]
    }
   ],
   "source": [
    "print(is_student)"
   ]
  },
  {
   "cell_type": "code",
   "execution_count": null,
   "id": "106eb127-8d16-403a-be0d-5642bd7ab0d0",
   "metadata": {},
   "outputs": [],
   "source": []
  }
 ],
 "metadata": {
  "kernelspec": {
   "display_name": "Python 3 (ipykernel)",
   "language": "python",
   "name": "python3"
  },
  "language_info": {
   "codemirror_mode": {
    "name": "ipython",
    "version": 3
   },
   "file_extension": ".py",
   "mimetype": "text/x-python",
   "name": "python",
   "nbconvert_exporter": "python",
   "pygments_lexer": "ipython3",
   "version": "3.10.8"
  }
 },
 "nbformat": 4,
 "nbformat_minor": 5
}
